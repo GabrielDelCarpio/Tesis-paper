{
 "cells": [
  {
   "cell_type": "markdown",
   "id": "30394e00",
   "metadata": {},
   "source": [
    "# Gráfico time varying IRF's - Modelo Findex"
   ]
  },
  {
   "cell_type": "code",
   "execution_count": 1,
   "id": "5a96f58b",
   "metadata": {},
   "outputs": [],
   "source": [
    "import os\n",
    "import matplotlib.pyplot as plt\n",
    "from PIL import Image"
   ]
  },
  {
   "cell_type": "code",
   "execution_count": 16,
   "id": "bdb3c385",
   "metadata": {},
   "outputs": [
    {
     "name": "stdout",
     "output_type": "stream",
     "text": [
      "¡Gráficos compuestos guardados exitosamente!\n"
     ]
    }
   ],
   "source": [
    "# Variables y dimensiones\n",
    "variables = ['BZSCORE', 'BANKCON', 'IPC', 'CONSUM', 'INVEST', 'PBI']\n",
    "estado = ['shock', 'rsp']\n",
    "\n",
    "# Ruta donde están las imágenes PNG\n",
    "carpeta = \"C:/Users/gabri/OneDrive/Desktop/Cato/Tesis/Tesis-paper/Data y gráficos/Gráficos de Tesis/IRF's TV/FINDEX\"  # O la ruta donde guardaste los gráficos\n",
    "\n",
    "# Crear un gráfico compuesto por cada dimensión\n",
    "for dim in estado:\n",
    "    fig, axs = plt.subplots(3, 2, figsize=(10, 12))\n",
    "    fig.subplots_adjust(hspace=0.3, wspace=0.2)\n",
    "\n",
    "    for i, var in enumerate(variables):\n",
    "        fila = i // 2\n",
    "        col = i % 2\n",
    "        ax = axs[fila, col]\n",
    "\n",
    "        filename = f\"{var}_{dim}.png\"\n",
    "        path = os.path.join(carpeta, filename)\n",
    "\n",
    "        if os.path.exists(path):\n",
    "            img = Image.open(path)\n",
    "            ax.imshow(img)\n",
    "            ax.axis('off')  # Quitar ejes\n",
    "            ax.set_title(var, fontsize=12)\n",
    "        else:\n",
    "            ax.text(0.5, 0.5, f'No encontrado:\\n{filename}',\n",
    "                    ha='center', va='center', fontsize=10)\n",
    "            ax.axis('off')\n",
    "\n",
    "    # plt.suptitle(f\"IRFs - Dimensión: {dim}\", fontsize=16)\n",
    "    #plt.tight_layout(rect=[0, 0, 1, 0.97])  # dejar espacio para el título\n",
    "    #plt.show()\n",
    "\n",
    "    # Guardar el gráfico compuesto\n",
    "    plt.tight_layout()\n",
    "    plt.savefig(f\"IRF_TV_{dim}.png\", dpi=300)\n",
    "    plt.close()\n",
    "\n",
    "print(\"¡Gráficos compuestos guardados exitosamente!\")"
   ]
  }
 ],
 "metadata": {
  "kernelspec": {
   "display_name": "base",
   "language": "python",
   "name": "python3"
  },
  "language_info": {
   "codemirror_mode": {
    "name": "ipython",
    "version": 3
   },
   "file_extension": ".py",
   "mimetype": "text/x-python",
   "name": "python",
   "nbconvert_exporter": "python",
   "pygments_lexer": "ipython3",
   "version": "3.12.7"
  }
 },
 "nbformat": 4,
 "nbformat_minor": 5
}
