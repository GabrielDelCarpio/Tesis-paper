{
 "cells": [
  {
   "cell_type": "markdown",
   "id": "89a6fbdc",
   "metadata": {},
   "source": [
    "# Gráficos time varying IRF's - Modelo de dimensiones"
   ]
  },
  {
   "cell_type": "code",
   "execution_count": 3,
   "id": "d1f4daf9",
   "metadata": {},
   "outputs": [],
   "source": [
    "import os\n",
    "import matplotlib.pyplot as plt\n",
    "from PIL import Image"
   ]
  },
  {
   "cell_type": "code",
   "execution_count": 17,
   "id": "a9b21b3c",
   "metadata": {},
   "outputs": [],
   "source": [
    "# Variables y dimensiones\n",
    "variables = [\n",
    "    ('BZSCORE', 'Estabilidad Bancaria'),\n",
    "    ('BANKCON', 'Concentración bancaria'),\n",
    "    ('IPC', 'Inflación'),\n",
    "    ('CONSUM', 'Consumo'),\n",
    "    ('INVEST', 'Inversión'),\n",
    "    ('PBI', 'Producto')\n",
    "]\n",
    "dimensiones = ['acceso', 'prof', 'uso']"
   ]
  },
  {
   "cell_type": "markdown",
   "id": "e69810d9",
   "metadata": {},
   "source": [
    "## TV BVAR(4) 4000 draws"
   ]
  },
  {
   "cell_type": "code",
   "execution_count": 19,
   "id": "bbf8890f",
   "metadata": {},
   "outputs": [
    {
     "name": "stdout",
     "output_type": "stream",
     "text": [
      "¡Gráficos compuestos guardados exitosamente!\n"
     ]
    }
   ],
   "source": [
    "carpeta = \"C:/Users/gabri/OneDrive/Desktop/Cato/Tesis/Tesis-paper/Data y gráficos/Gráficos de Tesis/IRF's TV/DIM/4k\"  # O la ruta donde guardaste los gráficos\n",
    "\n",
    "# Crear un gráfico compuesto por cada dimensión\n",
    "for dim in dimensiones:\n",
    "    fig, axs = plt.subplots(3, 2, figsize=(10, 12))\n",
    "    fig.subplots_adjust(hspace=0.3, wspace=0.2)\n",
    "\n",
    "    for i, (var, titulo) in enumerate(variables):\n",
    "        fila = i // 2\n",
    "        col = i % 2\n",
    "        ax = axs[fila, col]\n",
    "\n",
    "        filename = f\"{var}_{dim}.png\"\n",
    "        path = os.path.join(carpeta, filename)\n",
    "\n",
    "        if os.path.exists(path):\n",
    "            img = Image.open(path)\n",
    "            ax.imshow(img)\n",
    "            ax.axis('off')\n",
    "            ax.set_title(titulo, fontsize=14, pad=15)\n",
    "        else:\n",
    "            ax.text(0.5, 0.5, f'No encontrado:\\n{filename}',\n",
    "                    ha='center', va='center', fontsize=10)\n",
    "            ax.axis('off')\n",
    "\n",
    "    # Guardar el gráfico compuesto\n",
    "    plt.tight_layout()\n",
    "    plt.savefig(os.path.join(carpeta, f\"{dim}.png\"), dpi=300)\n",
    "    plt.close()\n",
    "\n",
    "print(\"¡Gráficos compuestos guardados exitosamente!\")"
   ]
  },
  {
   "cell_type": "markdown",
   "id": "568536f2",
   "metadata": {},
   "source": [
    "## TV BVAR(1) 8000 draws"
   ]
  },
  {
   "cell_type": "code",
   "execution_count": 20,
   "id": "6991b8e5",
   "metadata": {},
   "outputs": [
    {
     "name": "stdout",
     "output_type": "stream",
     "text": [
      "¡Gráficos compuestos guardados exitosamente!\n"
     ]
    }
   ],
   "source": [
    "carpeta = \"C:/Users/gabri/OneDrive/Desktop/Cato/Tesis/Tesis-paper/Data y gráficos/Gráficos de Tesis/IRF's TV/DIM/8k_1lag\"  # O la ruta donde guardaste los gráficos\n",
    "\n",
    "# Crear un gráfico compuesto por cada dimensión\n",
    "for dim in dimensiones:\n",
    "    fig, axs = plt.subplots(3, 2, figsize=(10, 12))\n",
    "    fig.subplots_adjust(hspace=0.3, wspace=0.2)\n",
    "\n",
    "    for i, (var, titulo) in enumerate(variables):\n",
    "        fila = i // 2\n",
    "        col = i % 2\n",
    "        ax = axs[fila, col]\n",
    "\n",
    "        filename = f\"{var}_{dim}.png\"\n",
    "        path = os.path.join(carpeta, filename)\n",
    "\n",
    "        if os.path.exists(path):\n",
    "            img = Image.open(path)\n",
    "            ax.imshow(img)\n",
    "            ax.axis('off')\n",
    "            ax.set_title(titulo, fontsize=14, pad=15)\n",
    "        else:\n",
    "            ax.text(0.5, 0.5, f'No encontrado:\\n{filename}',\n",
    "                    ha='center', va='center', fontsize=10)\n",
    "            ax.axis('off')\n",
    "\n",
    "    # Guardar el gráfico compuesto\n",
    "    plt.tight_layout()\n",
    "    plt.savefig(os.path.join(carpeta, f\"{dim}.png\"), dpi=300)\n",
    "    plt.close()\n",
    "\n",
    "print(\"¡Gráficos compuestos guardados exitosamente!\")"
   ]
  },
  {
   "cell_type": "markdown",
   "id": "bfdc73fe",
   "metadata": {},
   "source": [
    "## TV BVAR(2) 8000 draws"
   ]
  },
  {
   "cell_type": "code",
   "execution_count": 21,
   "id": "2e023e41",
   "metadata": {},
   "outputs": [
    {
     "name": "stdout",
     "output_type": "stream",
     "text": [
      "¡Gráficos compuestos guardados exitosamente!\n"
     ]
    }
   ],
   "source": [
    "carpeta = \"C:/Users/gabri/OneDrive/Desktop/Cato/Tesis/Tesis-paper/Data y gráficos/Gráficos de Tesis/IRF's TV/DIM/8k_2lag\"  # O la ruta donde guardaste los gráficos\n",
    "\n",
    "# Crear un gráfico compuesto por cada dimensión\n",
    "for dim in dimensiones:\n",
    "    fig, axs = plt.subplots(3, 2, figsize=(10, 12))\n",
    "    fig.subplots_adjust(hspace=0.3, wspace=0.2)\n",
    "\n",
    "    for i, (var, titulo) in enumerate(variables):\n",
    "        fila = i // 2\n",
    "        col = i % 2\n",
    "        ax = axs[fila, col]\n",
    "\n",
    "        filename = f\"{var}_{dim}.png\"\n",
    "        path = os.path.join(carpeta, filename)\n",
    "\n",
    "        if os.path.exists(path):\n",
    "            img = Image.open(path)\n",
    "            ax.imshow(img)\n",
    "            ax.axis('off')\n",
    "            ax.set_title(titulo, fontsize=14, pad=15)\n",
    "        else:\n",
    "            ax.text(0.5, 0.5, f'No encontrado:\\n{filename}',\n",
    "                    ha='center', va='center', fontsize=10)\n",
    "            ax.axis('off')\n",
    "\n",
    "    # Guardar el gráfico compuesto\n",
    "    plt.tight_layout()\n",
    "    plt.savefig(os.path.join(carpeta, f\"{dim}.png\"), dpi=300)\n",
    "    plt.close()\n",
    "\n",
    "print(\"¡Gráficos compuestos guardados exitosamente!\")"
   ]
  },
  {
   "cell_type": "markdown",
   "id": "96d7f8a5",
   "metadata": {},
   "source": [
    "## TV BVAR(4) 8000 draws"
   ]
  },
  {
   "cell_type": "code",
   "execution_count": 22,
   "id": "73e6cf47",
   "metadata": {},
   "outputs": [
    {
     "name": "stdout",
     "output_type": "stream",
     "text": [
      "¡Gráficos compuestos guardados exitosamente!\n"
     ]
    }
   ],
   "source": [
    "carpeta = \"C:/Users/gabri/OneDrive/Desktop/Cato/Tesis/Tesis-paper/Data y gráficos/Gráficos de Tesis/IRF's TV/DIM/8k_4lag\"  # O la ruta donde guardaste los gráficos\n",
    "\n",
    "# Crear un gráfico compuesto por cada dimensión\n",
    "for dim in dimensiones:\n",
    "    fig, axs = plt.subplots(3, 2, figsize=(10, 12))\n",
    "    fig.subplots_adjust(hspace=0.3, wspace=0.2)\n",
    "\n",
    "    for i, (var, titulo) in enumerate(variables):\n",
    "        fila = i // 2\n",
    "        col = i % 2\n",
    "        ax = axs[fila, col]\n",
    "\n",
    "        filename = f\"{var}_{dim}.png\"\n",
    "        path = os.path.join(carpeta, filename)\n",
    "\n",
    "        if os.path.exists(path):\n",
    "            img = Image.open(path)\n",
    "            ax.imshow(img)\n",
    "            ax.axis('off')\n",
    "            ax.set_title(titulo, fontsize=14, pad=15)\n",
    "        else:\n",
    "            ax.text(0.5, 0.5, f'No encontrado:\\n{filename}',\n",
    "                    ha='center', va='center', fontsize=10)\n",
    "            ax.axis('off')\n",
    "\n",
    "    # Guardar el gráfico compuesto\n",
    "    plt.tight_layout()\n",
    "    plt.savefig(os.path.join(carpeta, f\"{dim}.png\"), dpi=300)\n",
    "    plt.close()\n",
    "\n",
    "print(\"¡Gráficos compuestos guardados exitosamente!\")"
   ]
  },
  {
   "cell_type": "markdown",
   "id": "16bd90d0",
   "metadata": {},
   "source": [
    "## TV BVAR(4) 10k draws"
   ]
  },
  {
   "cell_type": "code",
   "execution_count": 18,
   "id": "c203ecba",
   "metadata": {},
   "outputs": [
    {
     "name": "stdout",
     "output_type": "stream",
     "text": [
      "¡Gráficos compuestos guardados exitosamente!\n"
     ]
    }
   ],
   "source": [
    "carpeta = \"C:/Users/gabri/OneDrive/Desktop/Cato/Tesis/Tesis-paper/Data y gráficos/Gráficos de Tesis/IRF's TV/DIM/10k\"  # O la ruta donde guardaste los gráficos\n",
    "\n",
    "# Crear un gráfico compuesto por cada dimensión\n",
    "for dim in dimensiones:\n",
    "    fig, axs = plt.subplots(3, 2, figsize=(10, 12))\n",
    "    fig.subplots_adjust(hspace=0.3, wspace=0.2)\n",
    "\n",
    "    for i, (var, titulo) in enumerate(variables):\n",
    "        fila = i // 2\n",
    "        col = i % 2\n",
    "        ax = axs[fila, col]\n",
    "\n",
    "        filename = f\"{var}_{dim}.png\"\n",
    "        path = os.path.join(carpeta, filename)\n",
    "\n",
    "        if os.path.exists(path):\n",
    "            img = Image.open(path)\n",
    "            ax.imshow(img)\n",
    "            ax.axis('off')\n",
    "            ax.set_title(titulo, fontsize=14, pad=15)\n",
    "        else:\n",
    "            ax.text(0.5, 0.5, f'No encontrado:\\n{filename}',\n",
    "                    ha='center', va='center', fontsize=10)\n",
    "            ax.axis('off')\n",
    "\n",
    "    # Guardar el gráfico compuesto\n",
    "    plt.tight_layout()\n",
    "    plt.savefig(os.path.join(carpeta, f\"{dim}.png\"), dpi=300)\n",
    "    plt.close()\n",
    "\n",
    "print(\"¡Gráficos compuestos guardados exitosamente!\")"
   ]
  }
 ],
 "metadata": {
  "kernelspec": {
   "display_name": "base",
   "language": "python",
   "name": "python3"
  },
  "language_info": {
   "codemirror_mode": {
    "name": "ipython",
    "version": 3
   },
   "file_extension": ".py",
   "mimetype": "text/x-python",
   "name": "python",
   "nbconvert_exporter": "python",
   "pygments_lexer": "ipython3",
   "version": "3.12.7"
  }
 },
 "nbformat": 4,
 "nbformat_minor": 5
}
